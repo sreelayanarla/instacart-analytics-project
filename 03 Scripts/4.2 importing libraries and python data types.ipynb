{
 "cells": [
  {
   "cell_type": "markdown",
   "id": "5439e735-5947-455b-83e1-ffe69d04fccb",
   "metadata": {},
   "source": [
    "# 01.Importing Libraries"
   ]
  },
  {
   "cell_type": "code",
   "execution_count": 2,
   "id": "e8703292-7d4e-4f33-8650-c45a4d9ff5c0",
   "metadata": {},
   "outputs": [],
   "source": [
    "# Import libraries\n",
    "import pandas as pd\n",
    "import numpy as np\n",
    "import os"
   ]
  },
  {
   "cell_type": "markdown",
   "id": "ea5fbdfc-3bfd-4253-a94a-ccb17e57364b",
   "metadata": {},
   "source": [
    "# 02.Data types"
   ]
  },
  {
   "cell_type": "code",
   "execution_count": 10,
   "id": "87f65220-0a48-4717-9982-93aabb96554c",
   "metadata": {},
   "outputs": [],
   "source": [
    "#QUESTION 7 METHOD-1 using only addition\n",
    "a=60\n",
    "b=40\n",
    "result1=a+b"
   ]
  },
  {
   "cell_type": "code",
   "execution_count": 11,
   "id": "15434361-63df-48a2-8cc7-f5d82579d0e3",
   "metadata": {},
   "outputs": [
    {
     "name": "stdout",
     "output_type": "stream",
     "text": [
      "100\n"
     ]
    }
   ],
   "source": [
    "print(result1)"
   ]
  },
  {
   "cell_type": "code",
   "execution_count": 15,
   "id": "81370949-0904-4da0-b1c5-772f8c07bac7",
   "metadata": {},
   "outputs": [
    {
     "name": "stdout",
     "output_type": "stream",
     "text": [
      "100\n"
     ]
    }
   ],
   "source": [
    "#method 2 using subtraction\n",
    "c=150\n",
    "d=50\n",
    "result2=c-d\n",
    "print(result2)"
   ]
  },
  {
   "cell_type": "code",
   "execution_count": 16,
   "id": "dcabd183-7961-4a50-a099-a9c01045194e",
   "metadata": {},
   "outputs": [
    {
     "name": "stdout",
     "output_type": "stream",
     "text": [
      "Result 3: 100\n"
     ]
    }
   ],
   "source": [
    "#method 3Using a combination of multiple variables\n",
    "m = 30\n",
    "n = 20\n",
    "o = 70\n",
    "p = 20\n",
    "result3 = m + n + o - p\n",
    "print(\"Result 3:\", result3)"
   ]
  },
  {
   "cell_type": "code",
   "execution_count": 17,
   "id": "06596838-e503-4ab4-acb5-af6c98ce43f1",
   "metadata": {},
   "outputs": [
    {
     "name": "stdout",
     "output_type": "stream",
     "text": [
      "Result of division: 5.0\n"
     ]
    }
   ],
   "source": [
    "#QUESTION 8\n",
    "# Define two floating-point variables\n",
    "num1 = 25.5\n",
    "num2 = 5.1\n",
    "\n",
    "# Divide them\n",
    "result = num1 / num2\n",
    "\n",
    "# Print the result\n",
    "print(\"Result of division:\", result)"
   ]
  },
  {
   "cell_type": "code",
   "execution_count": 18,
   "id": "2607ed0c-e372-4acf-909a-875e5a0b05fe",
   "metadata": {},
   "outputs": [
    {
     "name": "stdout",
     "output_type": "stream",
     "text": [
      "The word is: cat\n"
     ]
    }
   ],
   "source": [
    "#QUESTION 9\n",
    "# Define individual strings\n",
    "part1 = \"c\"\n",
    "part2 = \"a\"\n",
    "part3 = \"t\"\n",
    "\n",
    "# Concatenate them\n",
    "word = part1 + part2 + part3\n",
    "\n",
    "# Print the result\n",
    "print(\"The word is:\", word)"
   ]
  },
  {
   "cell_type": "code",
   "execution_count": 19,
   "id": "22fb5b3b-d172-493c-9449-5a2626725320",
   "metadata": {},
   "outputs": [
    {
     "name": "stdout",
     "output_type": "stream",
     "text": [
      "It is sunny today.\n",
      "We should go outside!\n"
     ]
    }
   ],
   "source": [
    "#QUESTION 10\n",
    "# Define string parts for the first sentence\n",
    "part1 = \"It\"\n",
    "part2 = \" is\"\n",
    "part3 = \" sunny\"\n",
    "part4 = \" today.\"\n",
    "\n",
    "# Construct the first sentence\n",
    "sentence1 = part1 + part2 + part3 + part4\n",
    "\n",
    "# Define string parts for the second sentence\n",
    "part5 = \"We\"\n",
    "part6 = \" should\"\n",
    "part7 = \" go\"\n",
    "part8 = \" outside!\"\n",
    "\n",
    "# Construct the second sentence\n",
    "sentence2 = part5 + part6 + part7 + part8\n",
    "\n",
    "# Print both sentences\n",
    "print(sentence1)\n",
    "print(sentence2)"
   ]
  },
  {
   "cell_type": "code",
   "execution_count": 22,
   "id": "bf518512-2c21-4a99-b42d-c28c694e86dc",
   "metadata": {},
   "outputs": [
    {
     "data": {
      "text/plain": [
       "'cakecakecakecakecakecakecakecakecakecakecakecakecakecakecakecakecakecakecakecakecakecakecakecakecakecakecakecakecakecakecakecakecakecakecakecakecakecakecakecakecakecakecakecakecakecakecakecakecakecakecakecakecakecakecakecakecakecakecakecakecakecakecakecakecakecakecakecakecakecakecakecakecakecakecakecakecakecakecakecakecakecakecakecakecakecakecakecakecakecakecakecakecakecakecakecakecakecakecakecake'"
      ]
     },
     "execution_count": 22,
     "metadata": {},
     "output_type": "execute_result"
    }
   ],
   "source": [
    "#bonus task\n",
    "h = 'cake'\n",
    "h*100"
   ]
  },
  {
   "cell_type": "code",
   "execution_count": null,
   "id": "0728b75e-5e62-4798-82bb-8311963664ce",
   "metadata": {},
   "outputs": [],
   "source": []
  }
 ],
 "metadata": {
  "kernelspec": {
   "display_name": "Python 3 (ipykernel)",
   "language": "python",
   "name": "python3"
  },
  "language_info": {
   "codemirror_mode": {
    "name": "ipython",
    "version": 3
   },
   "file_extension": ".py",
   "mimetype": "text/x-python",
   "name": "python",
   "nbconvert_exporter": "python",
   "pygments_lexer": "ipython3",
   "version": "3.12.7"
  }
 },
 "nbformat": 4,
 "nbformat_minor": 5
}
